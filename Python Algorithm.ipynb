{
 "cells": [
  {
   "cell_type": "code",
   "execution_count": 13,
   "id": "51ba71af",
   "metadata": {},
   "outputs": [
    {
     "name": "stdout",
     "output_type": "stream",
     "text": [
      "3\n"
     ]
    }
   ],
   "source": [
    "# Question 1\n",
    "# Write a Python program for binary search.\n",
    "# Test Data :\n",
    "# binary_search([1,2,3,5,8], 6) -> False\n",
    "# binary_search([1,2,3,5,8], 5) -> True\n",
    "\n",
    "def search(list, value):\n",
    "    start_index = 0\n",
    "    end_index = len(list)-1\n",
    "    \n",
    "    while start_index <= end_index:\n",
    "        mid_index = (start_index + end_index)//2\n",
    "        mid_value = list[mid_index]\n",
    "        if value == mid_value:\n",
    "            return mid_index\n",
    "        \n",
    "        elif value > mid_value:\n",
    "            start_index = mid_index + 1\n",
    "        else:\n",
    "            end_index = mid_index - 1\n",
    "    return False\n",
    "\n",
    "list_a = [1,2,3,5,8]\n",
    "value_a = 5\n",
    "print(search(list_a, value_a))"
   ]
  },
  {
   "cell_type": "code",
   "execution_count": 1,
   "id": "c67765d7",
   "metadata": {},
   "outputs": [
    {
     "name": "stdout",
     "output_type": "stream",
     "text": [
      "81\n"
     ]
    }
   ],
   "source": [
    "# Question 2\n",
    "# Write a Python program to calculate the value of 'a' to the power 'b'.\n",
    "# Test Data: (power(3,4) -> 81\n",
    "\n",
    "def power(a,b):\n",
    "    result = a**b\n",
    "    return result\n",
    "print(power(3,4))"
   ]
  },
  {
   "cell_type": "code",
   "execution_count": 16,
   "id": "862ff759",
   "metadata": {},
   "outputs": [
    {
     "name": "stdout",
     "output_type": "stream",
     "text": [
      "[13, 22, 29, 37, 42, 46, 49, 56, 71]\n"
     ]
    }
   ],
   "source": [
    "# Question 3. \n",
    "# Write a Python program to sort a list of elements using the bubble sort algorithm.\n",
    "# Sample Data: [29,13,22,37,42,49,46,71,56]\n",
    "# Expected Result: [13, 22, 29, 37, 42, 46, 49, 56, 71]\n",
    "\n",
    "def bubble_sort(sequence):\n",
    "    sorted = False\n",
    "    index_length = len(sequence) - 1\n",
    "    \n",
    "    while not sorted:\n",
    "        sorted = True\n",
    "        for i in range(0, index_length):\n",
    "            if sequence[i] > sequence[i+1]:\n",
    "                sorted = False\n",
    "                sequence[i], sequence[i+1] = sequence[i+1], sequence[i]\n",
    "    return sequence\n",
    "    \n",
    "print(bubble_sort([29,13,22,37,42,49,46,71,56]))"
   ]
  },
  {
   "cell_type": "code",
   "execution_count": 28,
   "id": "c4d13a9d",
   "metadata": {},
   "outputs": [
    {
     "name": "stdout",
     "output_type": "stream",
     "text": [
      "[13, 22, 29, 37, 42, 46, 49, 56, 71]\n"
     ]
    }
   ],
   "source": [
    "# Question 4. \n",
    "# Write a Python program to sort a list of elements using the merge sort algorithm.\n",
    "# Sample Data: [29,13,22,37,42,49,46,71,56]\n",
    "# Expected Result: [13, 22, 29, 37, 42, 46, 49, 56, 71]\n",
    "\n",
    "def merge(left, right):\n",
    "    result = []\n",
    "    i,j = 0, 0\n",
    "    \n",
    "    while i<len(left) and j<len(right):\n",
    "        if left[i] < right[j]:\n",
    "            result.append(left[i])\n",
    "            i = i+1\n",
    "        else:\n",
    "            result.append(right[j])\n",
    "            j = j+1\n",
    "            \n",
    "    result = result + left[i:]\n",
    "    result = result + right[j:]\n",
    "    return result\n",
    "    \n",
    "def mergesort(list):\n",
    "    if (len(list)) <= 1:\n",
    "        return list\n",
    "    mid = int(len(list)/2)\n",
    "    left = mergesort(list[:mid])\n",
    "    right = mergesort(list[mid:])\n",
    "    return merge(left, right)\n",
    "\n",
    "arr = [29,13,22,37,42,49,46,71,56]\n",
    "print(mergesort(arr))"
   ]
  },
  {
   "cell_type": "code",
   "execution_count": 21,
   "id": "af56cf50",
   "metadata": {},
   "outputs": [
    {
     "name": "stdout",
     "output_type": "stream",
     "text": [
      "[13, 22, 29, 37, 42, 46, 49, 56, 71]\n"
     ]
    }
   ],
   "source": [
    "# Question 5. \n",
    "# Write a Python program to sort a list of elements using the quick sort algorithm.\n",
    "# Sample Data: [29,13,22,37,42,49,46,71,56]\n",
    "# Expected Result: [13, 22, 29, 37, 42, 46, 49, 56, 71]\n",
    "\n",
    "def quick_sort(sequence):\n",
    "    length = len(sequence)\n",
    "    if length <= 1:\n",
    "        return sequence\n",
    "    else:\n",
    "        pivot = sequence.pop()\n",
    "    \n",
    "    items_greater = []\n",
    "    items_lower = []\n",
    "    \n",
    "    for item in sequence:\n",
    "        if item > pivot:\n",
    "            items_greater.append(item)\n",
    "        else: \n",
    "            items_lower.append(item)\n",
    "    \n",
    "    return quick_sort(items_lower) + [pivot] + quick_sort(items_greater)\n",
    "\n",
    "print(quick_sort([29,13,22,37,42,49,46,71,56]))"
   ]
  },
  {
   "cell_type": "code",
   "execution_count": null,
   "id": "5ae248cb",
   "metadata": {},
   "outputs": [],
   "source": []
  },
  {
   "cell_type": "code",
   "execution_count": null,
   "id": "fe197a45",
   "metadata": {},
   "outputs": [],
   "source": []
  }
 ],
 "metadata": {
  "kernelspec": {
   "display_name": "Python 3 (ipykernel)",
   "language": "python",
   "name": "python3"
  },
  "language_info": {
   "codemirror_mode": {
    "name": "ipython",
    "version": 3
   },
   "file_extension": ".py",
   "mimetype": "text/x-python",
   "name": "python",
   "nbconvert_exporter": "python",
   "pygments_lexer": "ipython3",
   "version": "3.9.7"
  }
 },
 "nbformat": 4,
 "nbformat_minor": 5
}
